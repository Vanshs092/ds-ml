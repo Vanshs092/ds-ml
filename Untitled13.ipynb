{
 "cells": [
  {
   "cell_type": "code",
   "execution_count": 30,
   "id": "46bbf79d-afe8-4b4a-8dce-50c5f9c812ca",
   "metadata": {},
   "outputs": [
    {
     "name": "stdout",
     "output_type": "stream",
     "text": [
      "                                                    Bus Ticket Fare Calculator\n"
     ]
    },
    {
     "name": "stdin",
     "output_type": "stream",
     "text": [
      "Enter Your Age:  32\n"
     ]
    },
    {
     "name": "stdout",
     "output_type": "stream",
     "text": [
      "No Discount\n"
     ]
    }
   ],
   "source": [
    "print(\"                                                    Bus Ticket Fare Calculator\")\n",
    "age=int(input(\"Enter Your Age: \"))\n",
    "if age<=5:\n",
    "    print(\"Free\")\n",
    "elif age<=15:\n",
    "    print(\"50% Discount\")\n",
    "else:\n",
    "    print(\"No Discount\")"
   ]
  },
  {
   "cell_type": "code",
   "execution_count": 28,
   "id": "b29a9c71-026e-4925-8e93-52e70f08bb5c",
   "metadata": {},
   "outputs": [
    {
     "name": "stdout",
     "output_type": "stream",
     "text": [
      "                                                  Electricity Bill Generator\n",
      "unit<=100:0\n",
      "unit<=200:Rs.5\n",
      "\n"
     ]
    },
    {
     "name": "stdin",
     "output_type": "stream",
     "text": [
      "Enter Units:  3245\n"
     ]
    },
    {
     "name": "stdout",
     "output_type": "stream",
     "text": [
      "Electricity Bill: Rs. 30450\n"
     ]
    }
   ],
   "source": [
    "print(\"                                                  Electricity Bill Generator\\nunit<=100:0\\nunit<=200:Rs.5\\n\")\n",
    "unit=int(input(\"Enter Units: \"))\n",
    "\n",
    "if unit<=100:\n",
    "    bill=0\n",
    "    print(\"Rs.0\")\n",
    "elif unit<=250:\n",
    "    rate=unit-100\n",
    "    bill=rate*5\n",
    "else:\n",
    "    rate=unit-200\n",
    "    bill=rate*10\n",
    "    \n",
    "print(\"Electricity Bill: Rs.\",bill)"
   ]
  },
  {
   "cell_type": "code",
   "execution_count": 17,
   "id": "e1478032-fe40-4b62-a003-d7218afea9c2",
   "metadata": {},
   "outputs": [
    {
     "name": "stdout",
     "output_type": "stream",
     "text": [
      "Library Fine Calculator\n"
     ]
    },
    {
     "name": "stdin",
     "output_type": "stream",
     "text": [
      "Enter the Due Date 12\n",
      "Enter the Due Month 1\n",
      "Enter the return day 31\n",
      "Enter the return month 11\n"
     ]
    },
    {
     "name": "stdout",
     "output_type": "stream",
     "text": [
      "The Fine is:  4785\n"
     ]
    }
   ],
   "source": [
    "print(\"Library Fine Calculator\")\n",
    "due_day=int(input(\"Enter the Due Date\"))\n",
    "due_month=int(input(\"Enter the Due Month\"))\n",
    "return_day=int(input(\"Enter the return day\"))\n",
    "return_month=int(input(\"Enter the return month\"))\n",
    "due_day=due_day + (due_month * 30)\n",
    "return_day=return_day + (return_month * 30)\n",
    "if return_day > due_day:\n",
    "    fine=(return_day - due_day) * 15\n",
    "    print(\"The Fine is: \",fine)\n",
    "else:\n",
    "    print(\"No Fine\")\n"
   ]
  },
  {
   "cell_type": "code",
   "execution_count": 24,
   "id": "c560165e-73b6-46c7-a016-76e4123fc35d",
   "metadata": {},
   "outputs": [
    {
     "name": "stdout",
     "output_type": "stream",
     "text": [
      "Bus Ticket Fare Calculator\n"
     ]
    },
    {
     "name": "stdin",
     "output_type": "stream",
     "text": [
      "Enter Your Age:  21\n"
     ]
    },
    {
     "name": "stdout",
     "output_type": "stream",
     "text": [
      "No Discount\n"
     ]
    }
   ],
   "source": [
    "print(\"Bus Ticket Fare Calculator\")\n",
    "age=int(input(\"Enter Your Age: \"))\n",
    "if age<=5:\n",
    "    print(\"Free\")\n",
    "elif age<=15:\n",
    "    print(\"50% Discount\")\n",
    "else:\n",
    "    print(\"No Discount\")"
   ]
  },
  {
   "cell_type": "code",
   "execution_count": null,
   "id": "6f477eda-65ad-45d5-a590-08e1141a37c4",
   "metadata": {},
   "outputs": [],
   "source": []
  }
 ],
 "metadata": {
  "kernelspec": {
   "display_name": "Python 3 (ipykernel)",
   "language": "python",
   "name": "python3"
  },
  "language_info": {
   "codemirror_mode": {
    "name": "ipython",
    "version": 3
   },
   "file_extension": ".py",
   "mimetype": "text/x-python",
   "name": "python",
   "nbconvert_exporter": "python",
   "pygments_lexer": "ipython3",
   "version": "3.12.4"
  }
 },
 "nbformat": 4,
 "nbformat_minor": 5
}
