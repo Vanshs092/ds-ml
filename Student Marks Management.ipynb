{
 "cells": [
  {
   "cell_type": "code",
   "execution_count": null,
   "id": "1a33ac28-25eb-4f4d-92dd-8dea894ee2e6",
   "metadata": {},
   "outputs": [],
   "source": [
    "student_marks={\"mohan\": 85, \"sita\": 90, \"ram\": 78, \"geeta\": 88}\n",
    "def add_student(name, marks):\n",
    "    if name in student_marks:\n",
    "        print(f\"Student {name} already exists.\")\n",
    "    else:\n",
    "        student_marks[name] = marks\n",
    "        print(f\"Student {name} added with marks {marks}.\")\n",
    "def update_student(name, marks):\n",
    "    if name in student_marks:\n",
    "        student_marks[name] = marks\n",
    "        print(f\"Student {name} updated with marks {marks}.\")\n",
    "    else:\n",
    "        print(f\"Student {name} does not exist.\")\n",
    "print(\"Welcome to the Student Marks Management System\")\n",
    "print(\"1. Add Student\")\n",
    "print(\"2. Update Student\")\n",
    "print(\"3. Display all records\")\n",
    "print(\"5. Display highest, lowest, and average marks\")\n",
    "print(\"6. Exit\")\n",
    "choice=input(\"Enter your choice: \")\n",
    "match choice:\n",
    "    case \"1\":\n",
    "        name = input(\"Enter student name: \")\n",
    "        marks = float(input(\"Enter student marks: \"))\n",
    "        add_student(name, marks)\n",
    "    case \"2\":\n",
    "        name = input(\"Enter student name to update: \")\n",
    "        marks = float(input(\"Enter new marks for the student: \"))\n",
    "        update_student(name, marks)\n",
    "    case \"3\":\n",
    "        print(\"Student Records:\")\n",
    "        for student, marks in student_marks.items():\n",
    "            print(f\"{student}: {marks}\")\n",
    "    case \"5\":\n",
    "        if not student_marks:\n",
    "            print(\"No records available.\")\n",
    "        else:\n",
    "            highest = max(student_marks.values())\n",
    "            lowest = min(student_marks.values())\n",
    "            average = sum(student_marks.values()) / len(student_marks)\n",
    "            print(f\"Highest Marks: {highest}\")\n",
    "            print(f\"Lowest Marks: {lowest}\")\n",
    "            print(f\"Average Marks: {average}\")\n",
    "    case \"6\":\n",
    "        print(\"Exiting the system.\")\n",
    "    case _:\n",
    "        print(\"Invalid choice. Please try again.\")"
   ]
  }
 ],
 "metadata": {
  "kernelspec": {
   "display_name": "Python 3 (ipykernel)",
   "language": "python",
   "name": "python3"
  },
  "language_info": {
   "codemirror_mode": {
    "name": "ipython",
    "version": 3
   },
   "file_extension": ".py",
   "mimetype": "text/x-python",
   "name": "python",
   "nbconvert_exporter": "python",
   "pygments_lexer": "ipython3",
   "version": "3.12.4"
  }
 },
 "nbformat": 4,
 "nbformat_minor": 5
}
